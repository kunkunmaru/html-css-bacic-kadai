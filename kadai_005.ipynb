{
  "nbformat": 4,
  "nbformat_minor": 0,
  "metadata": {
    "colab": {
      "provenance": [],
      "authorship_tag": "ABX9TyOmCZrTfdzIafW90O6M8jr/",
      "include_colab_link": true
    },
    "kernelspec": {
      "name": "python3",
      "display_name": "Python 3"
    },
    "language_info": {
      "name": "python"
    }
  },
  "cells": [
    {
      "cell_type": "markdown",
      "metadata": {
        "id": "view-in-github",
        "colab_type": "text"
      },
      "source": [
        "<a href=\"https://colab.research.google.com/github/kunkunmaru/html-css-bacic-kadai/blob/main/kadai_005.ipynb\" target=\"_parent\"><img src=\"https://colab.research.google.com/assets/colab-badge.svg\" alt=\"Open In Colab\"/></a>"
      ]
    },
    {
      "cell_type": "code",
      "execution_count": 3,
      "metadata": {
        "colab": {
          "base_uri": "https://localhost:8080/"
        },
        "id": "hRKWRIopN0Fy",
        "outputId": "0c163f5d-a7fb-4b40-9df0-c9b104dbfbb6"
      },
      "outputs": [
        {
          "output_type": "stream",
          "name": "stdout",
          "text": [
            "150\n"
          ]
        }
      ],
      "source": [
        "#各辺の長さを変数に代入\n",
        "top = 10\n",
        "bottom = 20\n",
        "height = 5\n",
        "\n",
        "#台形の面積を変数に代入\n",
        "area = (top + bottom) * height\n",
        "\n",
        "#面積を出力\n",
        "print(area)\n",
        "\n"
      ]
    }
  ]
}